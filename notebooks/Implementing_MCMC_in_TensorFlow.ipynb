{
 "cells": [
  {
   "cell_type": "code",
   "execution_count": 1,
   "metadata": {
    "collapsed": true
   },
   "outputs": [],
   "source": [
    "%matplotlib inline\n",
    "import numpy as np\n",
    "import matplotlib.pyplot as plt\n",
    "import tensorflow as tf"
   ]
  },
  {
   "cell_type": "markdown",
   "metadata": {},
   "source": [
    "# Classic Metropolis-Hastings\n",
    "\n",
    "We start with the classic Metropolis-Hasting algorithm. Let $p(x)$ be the target probability distribution and $q(x)$ represent the proposal distribution. The algorithm can be summarised as follows.\n",
    "\n",
    "1. start walk from an initial position $x_0$\n",
    "2. propose a new psotion $x_1$ from $q(x)$ conditional on $x_0$, i.e., $x_1 \\sim q(x_1|x_0)$\n",
    "3. accept the new position with the proability $\\alpha(x_0, x_1) = min\\left[1, \\frac{p(x_1)q(x_0|x_1)}{p(x_0)q(x_1|x_0)}\\right]$\n",
    "4. if accepted move the initial position to $x_1$ and return to step 1\n"
   ]
  },
  {
   "cell_type": "code",
   "execution_count": null,
   "metadata": {
    "collapsed": true
   },
   "outputs": [],
   "source": []
  }
 ],
 "metadata": {
  "kernelspec": {
   "display_name": "Python 3",
   "language": "python",
   "name": "python3"
  },
  "language_info": {
   "codemirror_mode": {
    "name": "ipython",
    "version": 3
   },
   "file_extension": ".py",
   "mimetype": "text/x-python",
   "name": "python",
   "nbconvert_exporter": "python",
   "pygments_lexer": "ipython3",
   "version": "3.6.1"
  }
 },
 "nbformat": 4,
 "nbformat_minor": 2
}
