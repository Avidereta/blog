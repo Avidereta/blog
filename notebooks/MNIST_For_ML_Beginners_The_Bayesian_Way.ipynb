{
 "cells": [
  {
   "cell_type": "markdown",
   "metadata": {},
   "source": [
    "# MNIST For ML Beginners: The Bayesian way\n",
    "(c) 2017 Sreekumar Thaithara Balan, Alpha-I \n",
    "\n",
    "This tutorial is intended for readers who are new to machine learning, TensorFlow and **Bayesian Methods**. Our intension is to created a Bayesian companion to the well known getting [started example](https://www.tensorflow.org/get_started/mnist/beginners) in TensorFlow. The readers are highly recommened to read that tutorial as a prerequisite to this blog. \n",
    "\n",
    "## About this tutorial\n",
    "In thi tutorial, you will learn about\n",
    "\n",
    "+ Construct a Bayesian model for classification of MNIST images\n",
    "+ See how the Bayesain networks can quantify uncertainties in prediction\n",
    "\n",
    "*For those who are eager to see why we care about uncertainites, scroll down to the bottom of this blog where we input the image of the letter \"A\" and ask our model to classify it. With Bayesian models we can how confident we are about our predictions!*"
   ]
  },
  {
   "cell_type": "code",
   "execution_count": null,
   "metadata": {
    "collapsed": true
   },
   "outputs": [],
   "source": []
  }
 ],
 "metadata": {
  "kernelspec": {
   "display_name": "Python 3",
   "language": "python",
   "name": "python3"
  },
  "language_info": {
   "codemirror_mode": {
    "name": "ipython",
    "version": 3
   },
   "file_extension": ".py",
   "mimetype": "text/x-python",
   "name": "python",
   "nbconvert_exporter": "python",
   "pygments_lexer": "ipython3",
   "version": "3.6.0"
  }
 },
 "nbformat": 4,
 "nbformat_minor": 2
}
